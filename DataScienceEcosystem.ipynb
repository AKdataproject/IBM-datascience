{
 "cells": [
  {
   "cell_type": "markdown",
   "id": "08ed359f",
   "metadata": {},
   "source": [
    "# Data Science Tools and Ecosystem"
   ]
  },
  {
   "cell_type": "markdown",
   "id": "dcc7e7d8",
   "metadata": {},
   "source": [
    "# In this notebook, Data Science Tools and Ecosystem are summarized."
   ]
  },
  {
   "cell_type": "markdown",
   "id": "d6a31384",
   "metadata": {},
   "source": [
    "# Some of the popular languages that Data Scientists use are:"
   ]
  },
  {
   "cell_type": "markdown",
   "id": "9bebf2dc",
   "metadata": {},
   "source": [
    "# Order List\n",
    "1. R programming\n",
    "2. Python\n",
    "3. Julia"
   ]
  },
  {
   "cell_type": "markdown",
   "id": "be8c88d7",
   "metadata": {},
   "source": [
    "# Some of the commonly used libraries used by Data Scientists include:"
   ]
  },
  {
   "cell_type": "markdown",
   "id": "0316d6a2",
   "metadata": {},
   "source": [
    "# Order List\n",
    "1. Panda\n",
    "2. Numpy\n",
    "3. Matplotlib"
   ]
  },
  {
   "cell_type": "markdown",
   "id": "dda2932f",
   "metadata": {},
   "source": [
    "# Data Science Tools"
   ]
  },
  {
   "cell_type": "markdown",
   "id": "22f95ae5",
   "metadata": {},
   "source": [
    "|Data Science Tools|\n",
    "|------------------|\n",
    "|1. Anaconda       |\n",
    "|2. Watson studio  |\n",
    "|3. Google colab   |"
   ]
  },
  {
   "cell_type": "markdown",
   "id": "dd0ecd36",
   "metadata": {},
   "source": [
    "### Below are a few examples of evaluating arithmetic expressions in Python"
   ]
  },
  {
   "cell_type": "code",
   "execution_count": 4,
   "id": "abf5c838",
   "metadata": {},
   "outputs": [
    {
     "data": {
      "text/plain": [
       "17"
      ]
     },
     "execution_count": 4,
     "metadata": {},
     "output_type": "execute_result"
    }
   ],
   "source": [
    "(3*4)+5"
   ]
  },
  {
   "cell_type": "code",
   "execution_count": 8,
   "id": "766587c9",
   "metadata": {},
   "outputs": [
    {
     "data": {
      "text/plain": [
       "3.3333333333333335"
      ]
     },
     "execution_count": 8,
     "metadata": {},
     "output_type": "execute_result"
    }
   ],
   "source": [
    "#This will convert 200 minutes to hours by diving by 60\n",
    "200/60"
   ]
  },
  {
   "cell_type": "markdown",
   "id": "f2a004a2",
   "metadata": {},
   "source": [
    "**Objectives:**\n",
    "* R programming\n",
    "* Python\n",
    "* Julia"
   ]
  },
  {
   "cell_type": "markdown",
   "id": "4fb446b1",
   "metadata": {},
   "source": [
    "## Author\n",
    "Abdulkerim"
   ]
  },
  {
   "cell_type": "code",
   "execution_count": null,
   "id": "a09fd769",
   "metadata": {},
   "outputs": [],
   "source": []
  }
 ],
 "metadata": {
  "kernelspec": {
   "display_name": "Python 3 (ipykernel)",
   "language": "python",
   "name": "python3"
  },
  "language_info": {
   "codemirror_mode": {
    "name": "ipython",
    "version": 3
   },
   "file_extension": ".py",
   "mimetype": "text/x-python",
   "name": "python",
   "nbconvert_exporter": "python",
   "pygments_lexer": "ipython3",
   "version": "3.11.5"
  }
 },
 "nbformat": 4,
 "nbformat_minor": 5
}
